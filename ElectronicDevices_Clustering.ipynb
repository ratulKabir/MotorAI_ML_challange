{
  "nbformat": 4,
  "nbformat_minor": 0,
  "metadata": {
    "colab": {
      "name": "MotorAI_task2",
      "version": "0.3.2",
      "provenance": [],
      "collapsed_sections": [],
      "include_colab_link": true
    },
    "kernelspec": {
      "name": "python3",
      "display_name": "Python 3"
    }
  },
  "cells": [
    {
      "cell_type": "markdown",
      "metadata": {
        "id": "view-in-github",
        "colab_type": "text"
      },
      "source": [
        "<a href=\"https://colab.research.google.com/github/ratulKabir/MotorAI_ML_challange/blob/master/ElectronicDevices_Clustering.ipynb\" target=\"_parent\"><img src=\"https://colab.research.google.com/assets/colab-badge.svg\" alt=\"Open In Colab\"/></a>"
      ]
    },
    {
      "metadata": {
        "id": "Wcsj5Upu0_NN",
        "colab_type": "text"
      },
      "cell_type": "markdown",
      "source": [
        "# Clustering\n",
        "In this notebook, clustering is first done using Deep Learning model Autoencoder. Later KMeans is used to perform clustering on the same dataset to compare accuracy."
      ]
    },
    {
      "metadata": {
        "id": "0Hym6GKO1iFX",
        "colab_type": "text"
      },
      "cell_type": "markdown",
      "source": [
        "## Import dataset"
      ]
    },
    {
      "metadata": {
        "id": "n5jV_91xs_KK",
        "colab_type": "code",
        "colab": {
          "base_uri": "https://localhost:8080/",
          "height": 34
        },
        "outputId": "2f031a27-7cdb-423e-869d-6d5e00a80e51"
      },
      "cell_type": "code",
      "source": [
        "from google.colab import drive\n",
        "from time import time\n",
        "import numpy as np\n",
        "import keras.backend as K\n",
        "from keras.engine.topology import Layer, InputSpec\n",
        "from keras.layers import Dense, Input\n",
        "from keras.models import Model\n",
        "from keras.optimizers import SGD\n",
        "from keras import callbacks\n",
        "from keras.initializers import VarianceScaling\n",
        "from sklearn.cluster import KMeans"
      ],
      "execution_count": 1,
      "outputs": [
        {
          "output_type": "stream",
          "text": [
            "Using TensorFlow backend.\n"
          ],
          "name": "stderr"
        }
      ]
    },
    {
      "metadata": {
        "id": "F_rJla-006DR",
        "colab_type": "text"
      },
      "cell_type": "markdown",
      "source": [
        "## Autoencoder\n"
      ]
    },
    {
      "metadata": {
        "id": "AhiYkKdmtH53",
        "colab_type": "code",
        "colab": {}
      },
      "cell_type": "code",
      "source": [
        "def autoencoder(dims, act='relu', init='glorot_uniform'):\n",
        "    \"\"\"\n",
        "    Fully connected auto-encoder model, symmetric.\n",
        "    Arguments:\n",
        "        dims: list of number of units in each layer of encoder. dims[0] is input dim, dims[-1] is units in hidden layer.\n",
        "            The decoder is symmetric with encoder. So number of layers of the auto-encoder is 2*len(dims)-1\n",
        "        act: activation, not applied to Input, Hidden and Output layers\n",
        "    return:\n",
        "        (ae_model, encoder_model), Model of autoencoder and model of encoder\n",
        "    \"\"\"\n",
        "    n_stacks = len(dims) - 1\n",
        "    # input\n",
        "    input_img = Input(shape=(dims[0],), name='input')\n",
        "    x = input_img\n",
        "    # internal layers in encoder\n",
        "    for i in range(n_stacks-1):\n",
        "        x = Dense(dims[i + 1], activation=act, kernel_initializer=init, name='encoder_%d' % i)(x)\n",
        "\n",
        "    # hidden layer\n",
        "    encoded = Dense(dims[-1], kernel_initializer=init, name='encoder_%d' % (n_stacks - 1))(x)  # hidden layer, features are extracted from here\n",
        "\n",
        "    x = encoded\n",
        "    # internal layers in decoder\n",
        "    for i in range(n_stacks-1, 0, -1):\n",
        "        x = Dense(dims[i], activation=act, kernel_initializer=init, name='decoder_%d' % i)(x)\n",
        "\n",
        "    # output\n",
        "    x = Dense(dims[0], kernel_initializer=init, name='decoder_0')(x)\n",
        "    decoded = x\n",
        "    return Model(inputs=input_img, outputs=decoded, name='AE'), Model(inputs=input_img, outputs=encoded, name='encoder')"
      ],
      "execution_count": 0,
      "outputs": []
    },
    {
      "metadata": {
        "id": "Zmvnllmbz3Ax",
        "colab_type": "text"
      },
      "cell_type": "markdown",
      "source": [
        "## Import dataset\n"
      ]
    },
    {
      "metadata": {
        "id": "14Pdqt9atPk3",
        "colab_type": "code",
        "colab": {
          "base_uri": "https://localhost:8080/",
          "height": 125
        },
        "outputId": "602325bc-7346-465c-f867-06bb5814188f"
      },
      "cell_type": "code",
      "source": [
        "drive.mount('/content/drive/')"
      ],
      "execution_count": 3,
      "outputs": [
        {
          "output_type": "stream",
          "text": [
            "Go to this URL in a browser: https://accounts.google.com/o/oauth2/auth?client_id=947318989803-6bn6qk8qdgf4n4g3pfee6491hc0brc4i.apps.googleusercontent.com&redirect_uri=urn%3Aietf%3Awg%3Aoauth%3A2.0%3Aoob&scope=email%20https%3A%2F%2Fwww.googleapis.com%2Fauth%2Fdocs.test%20https%3A%2F%2Fwww.googleapis.com%2Fauth%2Fdrive%20https%3A%2F%2Fwww.googleapis.com%2Fauth%2Fdrive.photos.readonly%20https%3A%2F%2Fwww.googleapis.com%2Fauth%2Fpeopleapi.readonly&response_type=code\n",
            "\n",
            "Enter your authorization code:\n",
            "··········\n",
            "Mounted at /content/drive/\n"
          ],
          "name": "stdout"
        }
      ]
    },
    {
      "metadata": {
        "id": "3hzM1IPutTuN",
        "colab_type": "code",
        "colab": {}
      },
      "cell_type": "code",
      "source": [
        "import pandas as pd\n",
        "df = pd.read_csv('/content/drive/My Drive/Colab Notebooks/input/ElectricDevices.csv', header=-1)"
      ],
      "execution_count": 0,
      "outputs": []
    },
    {
      "metadata": {
        "id": "M4CxF0BgtfFY",
        "colab_type": "code",
        "colab": {}
      },
      "cell_type": "code",
      "source": [
        "x = df.iloc[:, 1:] # spliting the label from the original dataset to\n",
        "y = df.iloc[:, 0]  # feed the model"
      ],
      "execution_count": 0,
      "outputs": []
    },
    {
      "metadata": {
        "id": "8qA3tP7ftq7T",
        "colab_type": "code",
        "colab": {}
      },
      "cell_type": "code",
      "source": [
        "# number of clusters\n",
        "n_clusters = len(np.unique(y))"
      ],
      "execution_count": 0,
      "outputs": []
    },
    {
      "metadata": {
        "id": "V6fUsiENt8Io",
        "colab_type": "code",
        "colab": {}
      },
      "cell_type": "code",
      "source": [
        "dims = [x.shape[1], 500, 500, 2000, 7]\n",
        "init = VarianceScaling(scale=1. / 3., mode='fan_in',\n",
        "                           distribution='uniform')\n",
        "pretrain_optimizer = SGD(lr=1, momentum=0.9)\n",
        "pretrain_epochs = 100\n",
        "batch_size = 256\n",
        "save_dir = '/content/drive/My Drive/Colab Notebooks/input' #directory to save the weights"
      ],
      "execution_count": 0,
      "outputs": []
    },
    {
      "metadata": {
        "id": "VSqyfSNZuM6J",
        "colab_type": "code",
        "colab": {}
      },
      "cell_type": "code",
      "source": [
        "autoencoder, encoder = autoencoder(dims, init=init)"
      ],
      "execution_count": 0,
      "outputs": []
    },
    {
      "metadata": {
        "id": "JXw7NKBu4MVR",
        "colab_type": "text"
      },
      "cell_type": "markdown",
      "source": [
        "#### Pre-train autoencoder"
      ]
    },
    {
      "metadata": {
        "id": "-L7HgiTQuQOs",
        "colab_type": "code",
        "colab": {
          "base_uri": "https://localhost:8080/",
          "height": 3590
        },
        "outputId": "e9d097c6-2b07-403a-81bd-39e750ed1769"
      },
      "cell_type": "code",
      "source": [
        "autoencoder.compile(optimizer=pretrain_optimizer, loss='mse')\n",
        "autoencoder.fit(x, x, batch_size=batch_size, epochs=pretrain_epochs) #, callbacks=cb)"
      ],
      "execution_count": 11,
      "outputs": [
        {
          "output_type": "stream",
          "text": [
            "Epoch 1/100\n",
            "7711/7711 [==============================] - 2s 312us/step - loss: 0.8498\n",
            "Epoch 2/100\n",
            "7711/7711 [==============================] - 3s 381us/step - loss: 0.8195\n",
            "Epoch 3/100\n",
            "7711/7711 [==============================] - 3s 377us/step - loss: 0.7969\n",
            "Epoch 4/100\n",
            "7711/7711 [==============================] - 3s 379us/step - loss: 0.8157\n",
            "Epoch 5/100\n",
            "7711/7711 [==============================] - 3s 375us/step - loss: 0.7635\n",
            "Epoch 6/100\n",
            "7711/7711 [==============================] - 3s 377us/step - loss: 0.7220\n",
            "Epoch 7/100\n",
            "7711/7711 [==============================] - 3s 375us/step - loss: 0.6909\n",
            "Epoch 8/100\n",
            "7711/7711 [==============================] - 3s 370us/step - loss: 0.6573\n",
            "Epoch 9/100\n",
            "7711/7711 [==============================] - 3s 373us/step - loss: 0.6375\n",
            "Epoch 10/100\n",
            "7711/7711 [==============================] - 3s 372us/step - loss: 0.6230\n",
            "Epoch 11/100\n",
            "7711/7711 [==============================] - 3s 370us/step - loss: 0.6021\n",
            "Epoch 12/100\n",
            "7711/7711 [==============================] - 3s 373us/step - loss: 0.5780\n",
            "Epoch 13/100\n",
            "7711/7711 [==============================] - 3s 376us/step - loss: 0.5664\n",
            "Epoch 14/100\n",
            "7711/7711 [==============================] - 3s 372us/step - loss: 0.5495\n",
            "Epoch 15/100\n",
            "7711/7711 [==============================] - 3s 367us/step - loss: 0.5367\n",
            "Epoch 16/100\n",
            "7711/7711 [==============================] - 3s 369us/step - loss: 0.5278\n",
            "Epoch 17/100\n",
            "7711/7711 [==============================] - 3s 370us/step - loss: 0.5182\n",
            "Epoch 18/100\n",
            "7711/7711 [==============================] - 3s 368us/step - loss: 0.5050\n",
            "Epoch 19/100\n",
            "7711/7711 [==============================] - 3s 364us/step - loss: 0.4986\n",
            "Epoch 20/100\n",
            "7711/7711 [==============================] - 3s 360us/step - loss: 0.4940\n",
            "Epoch 21/100\n",
            "7711/7711 [==============================] - 3s 365us/step - loss: 0.4836\n",
            "Epoch 22/100\n",
            "7711/7711 [==============================] - 3s 363us/step - loss: 0.4823\n",
            "Epoch 23/100\n",
            "7711/7711 [==============================] - 3s 365us/step - loss: 0.4682\n",
            "Epoch 24/100\n",
            "7711/7711 [==============================] - 3s 367us/step - loss: 0.4577\n",
            "Epoch 25/100\n",
            "7711/7711 [==============================] - 3s 365us/step - loss: 0.4566\n",
            "Epoch 26/100\n",
            "7711/7711 [==============================] - 3s 363us/step - loss: 0.4524\n",
            "Epoch 27/100\n",
            "7711/7711 [==============================] - 3s 366us/step - loss: 0.4402\n",
            "Epoch 28/100\n",
            "7711/7711 [==============================] - 3s 366us/step - loss: 0.4364\n",
            "Epoch 29/100\n",
            "7711/7711 [==============================] - 3s 364us/step - loss: 0.4260\n",
            "Epoch 30/100\n",
            "7711/7711 [==============================] - 3s 363us/step - loss: 0.4205\n",
            "Epoch 31/100\n",
            "7711/7711 [==============================] - 3s 364us/step - loss: 0.4167\n",
            "Epoch 32/100\n",
            "7711/7711 [==============================] - 3s 367us/step - loss: 0.4182\n",
            "Epoch 33/100\n",
            "7711/7711 [==============================] - 3s 359us/step - loss: 0.4037\n",
            "Epoch 34/100\n",
            "7711/7711 [==============================] - 3s 365us/step - loss: 0.3973\n",
            "Epoch 35/100\n",
            "7711/7711 [==============================] - 3s 361us/step - loss: 0.3880\n",
            "Epoch 36/100\n",
            "7711/7711 [==============================] - 3s 361us/step - loss: 0.3867\n",
            "Epoch 37/100\n",
            "7711/7711 [==============================] - 3s 362us/step - loss: 0.3867\n",
            "Epoch 38/100\n",
            "7711/7711 [==============================] - 3s 361us/step - loss: 0.3851\n",
            "Epoch 39/100\n",
            "7711/7711 [==============================] - 3s 358us/step - loss: 0.3799\n",
            "Epoch 40/100\n",
            "7711/7711 [==============================] - 3s 363us/step - loss: 0.3725\n",
            "Epoch 41/100\n",
            "7711/7711 [==============================] - 3s 366us/step - loss: 0.3699\n",
            "Epoch 42/100\n",
            "7711/7711 [==============================] - 3s 360us/step - loss: 0.3637\n",
            "Epoch 43/100\n",
            "7711/7711 [==============================] - 3s 360us/step - loss: 0.3611\n",
            "Epoch 44/100\n",
            "7711/7711 [==============================] - 3s 357us/step - loss: 0.3595\n",
            "Epoch 45/100\n",
            "7711/7711 [==============================] - 3s 357us/step - loss: 0.3607\n",
            "Epoch 46/100\n",
            "7711/7711 [==============================] - 3s 358us/step - loss: 0.3532\n",
            "Epoch 47/100\n",
            "7711/7711 [==============================] - 3s 361us/step - loss: 0.3527\n",
            "Epoch 48/100\n",
            "7711/7711 [==============================] - 3s 359us/step - loss: 0.3469\n",
            "Epoch 49/100\n",
            "7711/7711 [==============================] - 3s 357us/step - loss: 0.3436\n",
            "Epoch 50/100\n",
            "7711/7711 [==============================] - 3s 362us/step - loss: 0.3449\n",
            "Epoch 51/100\n",
            "7711/7711 [==============================] - 3s 357us/step - loss: 0.3395\n",
            "Epoch 52/100\n",
            "7711/7711 [==============================] - 3s 358us/step - loss: 0.3363\n",
            "Epoch 53/100\n",
            "7711/7711 [==============================] - 3s 358us/step - loss: 0.3335\n",
            "Epoch 54/100\n",
            "7711/7711 [==============================] - 3s 360us/step - loss: 0.3307\n",
            "Epoch 55/100\n",
            "7711/7711 [==============================] - 3s 358us/step - loss: 0.3268\n",
            "Epoch 56/100\n",
            "7711/7711 [==============================] - 3s 358us/step - loss: 0.3255\n",
            "Epoch 57/100\n",
            "7711/7711 [==============================] - 3s 360us/step - loss: 0.3236\n",
            "Epoch 58/100\n",
            "7711/7711 [==============================] - 3s 357us/step - loss: 0.3178\n",
            "Epoch 59/100\n",
            "7711/7711 [==============================] - 3s 359us/step - loss: 0.3143\n",
            "Epoch 60/100\n",
            "7711/7711 [==============================] - 3s 358us/step - loss: 0.3168\n",
            "Epoch 61/100\n",
            "7711/7711 [==============================] - 3s 359us/step - loss: 0.3175\n",
            "Epoch 62/100\n",
            "7711/7711 [==============================] - 3s 358us/step - loss: 0.3168\n",
            "Epoch 63/100\n",
            "7711/7711 [==============================] - 3s 350us/step - loss: 0.3153\n",
            "Epoch 64/100\n",
            "7711/7711 [==============================] - 3s 362us/step - loss: 0.3153\n",
            "Epoch 65/100\n",
            "7711/7711 [==============================] - 3s 356us/step - loss: 0.3132\n",
            "Epoch 66/100\n",
            "7711/7711 [==============================] - 3s 357us/step - loss: 0.3081\n",
            "Epoch 67/100\n",
            "7711/7711 [==============================] - 3s 359us/step - loss: 0.3094\n",
            "Epoch 68/100\n",
            "7711/7711 [==============================] - 3s 358us/step - loss: 0.3047\n",
            "Epoch 69/100\n",
            "7711/7711 [==============================] - 3s 354us/step - loss: 0.3019\n",
            "Epoch 70/100\n",
            "7711/7711 [==============================] - 3s 353us/step - loss: 0.3043\n",
            "Epoch 71/100\n",
            "7711/7711 [==============================] - 3s 358us/step - loss: 0.3003\n",
            "Epoch 72/100\n",
            "7711/7711 [==============================] - 3s 354us/step - loss: 0.2983\n",
            "Epoch 73/100\n",
            "7711/7711 [==============================] - 3s 354us/step - loss: 0.2944\n",
            "Epoch 74/100\n",
            "7711/7711 [==============================] - 3s 358us/step - loss: 0.2920\n",
            "Epoch 75/100\n",
            "7711/7711 [==============================] - 3s 376us/step - loss: 0.2893\n",
            "Epoch 76/100\n",
            "7711/7711 [==============================] - 3s 361us/step - loss: 0.2928\n",
            "Epoch 77/100\n",
            "7711/7711 [==============================] - 3s 349us/step - loss: 0.2944\n",
            "Epoch 78/100\n",
            "7711/7711 [==============================] - 3s 351us/step - loss: 0.2882\n",
            "Epoch 79/100\n",
            "7711/7711 [==============================] - 3s 362us/step - loss: 0.2846\n",
            "Epoch 80/100\n",
            "7711/7711 [==============================] - 3s 369us/step - loss: 0.2815\n",
            "Epoch 81/100\n",
            "7711/7711 [==============================] - 3s 368us/step - loss: 0.2855\n",
            "Epoch 82/100\n",
            "7711/7711 [==============================] - 3s 366us/step - loss: 0.2853\n",
            "Epoch 83/100\n",
            "7711/7711 [==============================] - 3s 362us/step - loss: 0.2855\n",
            "Epoch 84/100\n",
            "7711/7711 [==============================] - 3s 353us/step - loss: 0.2809\n",
            "Epoch 85/100\n",
            "7711/7711 [==============================] - 3s 356us/step - loss: 0.2849\n",
            "Epoch 86/100\n",
            "7711/7711 [==============================] - 3s 359us/step - loss: 0.2801\n",
            "Epoch 87/100\n",
            "7711/7711 [==============================] - 3s 357us/step - loss: 0.2841\n",
            "Epoch 88/100\n",
            "7711/7711 [==============================] - 3s 356us/step - loss: 0.2894\n",
            "Epoch 89/100\n",
            "7711/7711 [==============================] - 3s 356us/step - loss: 0.2867\n",
            "Epoch 90/100\n",
            "7711/7711 [==============================] - 3s 360us/step - loss: 0.2806\n",
            "Epoch 91/100\n",
            "7711/7711 [==============================] - 3s 353us/step - loss: 0.2728\n",
            "Epoch 92/100\n",
            "7711/7711 [==============================] - 3s 354us/step - loss: 0.2727\n",
            "Epoch 93/100\n",
            "7711/7711 [==============================] - 3s 356us/step - loss: 0.2708\n",
            "Epoch 94/100\n",
            "7711/7711 [==============================] - 3s 363us/step - loss: 0.2746\n",
            "Epoch 95/100\n",
            "7711/7711 [==============================] - 3s 361us/step - loss: 0.2790\n",
            "Epoch 96/100\n",
            "7711/7711 [==============================] - 3s 354us/step - loss: 0.2730\n",
            "Epoch 97/100\n",
            "7711/7711 [==============================] - 3s 360us/step - loss: 0.2714\n",
            "Epoch 98/100\n",
            "7711/7711 [==============================] - 3s 354us/step - loss: 0.2700\n",
            "Epoch 99/100\n",
            "7711/7711 [==============================] - 3s 353us/step - loss: 0.2715\n",
            "Epoch 100/100\n",
            "7711/7711 [==============================] - 3s 358us/step - loss: 0.2700\n"
          ],
          "name": "stdout"
        },
        {
          "output_type": "execute_result",
          "data": {
            "text/plain": [
              "<keras.callbacks.History at 0x7fdbae46def0>"
            ]
          },
          "metadata": {
            "tags": []
          },
          "execution_count": 11
        }
      ]
    },
    {
      "metadata": {
        "id": "OiFp_V2HuYeR",
        "colab_type": "code",
        "colab": {}
      },
      "cell_type": "code",
      "source": [
        "autoencoder.save_weights(save_dir + '/ae_weights.h5') # save weights"
      ],
      "execution_count": 0,
      "outputs": []
    },
    {
      "metadata": {
        "id": "OhveSp8Punry",
        "colab_type": "code",
        "colab": {}
      },
      "cell_type": "code",
      "source": [
        "autoencoder.load_weights(save_dir + '/ae_weights.h5') # load weights\n"
      ],
      "execution_count": 0,
      "outputs": []
    },
    {
      "metadata": {
        "id": "0pu3ukVU2ozh",
        "colab_type": "text"
      },
      "cell_type": "markdown",
      "source": [
        "## Clustering using Autoencoder\n",
        "This is the clustering layer that uses the pre-trained weights of the encoder. "
      ]
    },
    {
      "metadata": {
        "id": "3c8xI27yup40",
        "colab_type": "code",
        "colab": {}
      },
      "cell_type": "code",
      "source": [
        "class ClusteringLayer(Layer):\n",
        "    \"\"\"\n",
        "    Clustering layer converts input sample (feature) to soft label, i.e. a vector that represents the probability of the\n",
        "    sample belonging to each cluster. The probability is calculated with student's t-distribution.\n",
        "\n",
        "    # Example\n",
        "    ```\n",
        "        model.add(ClusteringLayer(n_clusters=10))\n",
        "    ```\n",
        "    # Arguments\n",
        "        n_clusters: number of clusters.\n",
        "        weights: list of Numpy array with shape `(n_clusters, n_features)` witch represents the initial cluster centers.\n",
        "        alpha: degrees of freedom parameter in Student's t-distribution. Default to 1.0.\n",
        "    # Input shape\n",
        "        2D tensor with shape: `(n_samples, n_features)`.\n",
        "    # Output shape\n",
        "        2D tensor with shape: `(n_samples, n_clusters)`.\n",
        "    \"\"\"\n",
        "\n",
        "    def __init__(self, n_clusters, weights=None, alpha=1.0, **kwargs):\n",
        "        if 'input_shape' not in kwargs and 'input_dim' in kwargs:\n",
        "            kwargs['input_shape'] = (kwargs.pop('input_dim'),)\n",
        "        super(ClusteringLayer, self).__init__(**kwargs)\n",
        "        self.n_clusters = n_clusters\n",
        "        self.alpha = alpha\n",
        "        self.initial_weights = weights\n",
        "        self.input_spec = InputSpec(ndim=2)\n",
        "\n",
        "    def build(self, input_shape):\n",
        "        assert len(input_shape) == 2\n",
        "        input_dim = input_shape[1]\n",
        "        self.input_spec = InputSpec(dtype=K.floatx(), shape=(None, input_dim))\n",
        "        self.clusters = self.add_weight((self.n_clusters, input_dim), initializer='glorot_uniform', name='clusters')\n",
        "        if self.initial_weights is not None:\n",
        "            self.set_weights(self.initial_weights)\n",
        "            del self.initial_weights\n",
        "        self.built = True\n",
        "\n",
        "    def call(self, inputs, **kwargs):\n",
        "        \"\"\" student t-distribution, as same as used in t-SNE algorithm.\n",
        "         Measure the similarity between embedded point z_i and centroid µ_j.\n",
        "                 q_ij = 1/(1+dist(x_i, µ_j)^2), then normalize it.\n",
        "                 q_ij can be interpreted as the probability of assigning sample i to cluster j.\n",
        "                 (i.e., a soft assignment)\n",
        "        Arguments:\n",
        "            inputs: the variable containing data, shape=(n_samples, n_features)\n",
        "        Return:\n",
        "            q: student's t-distribution, or soft labels for each sample. shape=(n_samples, n_clusters)\n",
        "        \"\"\"\n",
        "        q = 1.0 / (1.0 + (K.sum(K.square(K.expand_dims(inputs, axis=1) - self.clusters), axis=2) / self.alpha))\n",
        "        q **= (self.alpha + 1.0) / 2.0\n",
        "        q = K.transpose(K.transpose(q) / K.sum(q, axis=1)) # Make sure each sample's 10 values add up to 1.\n",
        "        return q\n",
        "\n",
        "    def compute_output_shape(self, input_shape):\n",
        "        assert input_shape and len(input_shape) == 2\n",
        "        return input_shape[0], self.n_clusters\n",
        "\n",
        "    def get_config(self):\n",
        "        config = {'n_clusters': self.n_clusters}\n",
        "        base_config = super(ClusteringLayer, self).get_config()\n",
        "        return dict(list(base_config.items()) + list(config.items()))\n"
      ],
      "execution_count": 0,
      "outputs": []
    },
    {
      "metadata": {
        "id": "wiAuLsK-0Eqt",
        "colab_type": "code",
        "colab": {}
      },
      "cell_type": "code",
      "source": [
        "clustering_layer = ClusteringLayer(n_clusters, name='clustering')(encoder.output)\n",
        "model = Model(inputs=encoder.input, outputs=clustering_layer)"
      ],
      "execution_count": 0,
      "outputs": []
    },
    {
      "metadata": {
        "id": "7UC3gasL0IiC",
        "colab_type": "code",
        "colab": {}
      },
      "cell_type": "code",
      "source": [
        "model.compile(optimizer=SGD(0.01, 0.9), loss='kld')\n"
      ],
      "execution_count": 0,
      "outputs": []
    },
    {
      "metadata": {
        "id": "h1NXWARL4nWa",
        "colab_type": "text"
      },
      "cell_type": "markdown",
      "source": [
        "## Initialize cluster centers\n",
        "Only the cluster centers are initialized using KMeans. The actual clustering is done by the clustering layer previously created."
      ]
    },
    {
      "metadata": {
        "id": "DpxvYqys0LSu",
        "colab_type": "code",
        "colab": {}
      },
      "cell_type": "code",
      "source": [
        "kmeans = KMeans(n_clusters=n_clusters, n_init=20) # initialize cluster centers\n",
        "y_pred = kmeans.fit_predict(encoder.predict(x))"
      ],
      "execution_count": 0,
      "outputs": []
    },
    {
      "metadata": {
        "id": "oaGUy6KG0PL5",
        "colab_type": "code",
        "colab": {}
      },
      "cell_type": "code",
      "source": [
        "y_pred_last = np.copy(y_pred)"
      ],
      "execution_count": 0,
      "outputs": []
    },
    {
      "metadata": {
        "id": "gj2mSUbXhOHp",
        "colab_type": "code",
        "colab": {}
      },
      "cell_type": "code",
      "source": [
        "model.get_layer(name='clustering').set_weights([kmeans.cluster_centers_])\n"
      ],
      "execution_count": 0,
      "outputs": []
    },
    {
      "metadata": {
        "id": "wo14b4h7hQVR",
        "colab_type": "code",
        "colab": {}
      },
      "cell_type": "code",
      "source": [
        "# computing an auxiliary target distribution\n",
        "def target_distribution(q):\n",
        "    weight = q ** 2 / q.sum(0)\n",
        "    return (weight.T / weight.sum(1)).T"
      ],
      "execution_count": 0,
      "outputs": []
    },
    {
      "metadata": {
        "id": "q0Rah7zHhSpC",
        "colab_type": "code",
        "colab": {}
      },
      "cell_type": "code",
      "source": [
        "loss = 0\n",
        "index = 0\n",
        "maxiter = 50\n",
        "update_interval = 140\n",
        "index_array = np.arange(x.shape[0])\n",
        "#tol = 0.001 # tolerance threshold to stop training"
      ],
      "execution_count": 0,
      "outputs": []
    },
    {
      "metadata": {
        "id": "THBrTQdw56Mf",
        "colab_type": "text"
      },
      "cell_type": "markdown",
      "source": [
        "## Define accuracy\n",
        "In the metrics class a function acc() is defined. It takes as input the real labels and the predicted values and computes the accuracy."
      ]
    },
    {
      "metadata": {
        "id": "K1yzTyMph1JC",
        "colab_type": "code",
        "colab": {}
      },
      "cell_type": "code",
      "source": [
        "class metrics:\n",
        "  import numpy as np\n",
        "  from sklearn.metrics import normalized_mutual_info_score, adjusted_rand_score\n",
        "\n",
        "  nmi = normalized_mutual_info_score\n",
        "  ari = adjusted_rand_score\n",
        "\n",
        " \n",
        "  def acc(y_true, y_predict):\n",
        "      \"\"\"\n",
        "      Calculate clustering accuracy. Require scikit-learn installed\n",
        "      # Arguments\n",
        "          y: true labels, numpy.array with shape `(n_samples,)`\n",
        "          y_pred: predicted labels, numpy.array with shape `(n_samples,)`\n",
        "      # Return\n",
        "          accuracy, in [0,1]\n",
        "      \"\"\"\n",
        "      y_true = y_true.astype(np.int64)\n",
        "      assert y_predict.size == y_true.size\n",
        "      D = max(y_predict.max(), y_true.max()) + 1\n",
        "      w = np.zeros((D, D), dtype=np.int64)\n",
        "      for i in range(y_predict.size):\n",
        "          w[y_predict[i], y_true[i]] += 1\n",
        "      from sklearn.utils.linear_assignment_ import linear_assignment\n",
        "      ind = linear_assignment(w.max() - w)\n",
        "      return sum([w[i, j] for i, j in ind]) * 1.0 / y_predict.size"
      ],
      "execution_count": 0,
      "outputs": []
    },
    {
      "metadata": {
        "id": "UcnB4Mlu5exX",
        "colab_type": "text"
      },
      "cell_type": "markdown",
      "source": [
        "## Traning"
      ]
    },
    {
      "metadata": {
        "id": "uQ8ihbEihWwi",
        "colab_type": "code",
        "colab": {}
      },
      "cell_type": "code",
      "source": [
        "for ite in range(int(maxiter)):\n",
        "    if ite % update_interval == 0:\n",
        "        q = model.predict(x, verbose=0)\n",
        "        p = target_distribution(q)  # update the auxiliary target distribution p\n",
        "\n",
        "        # evaluate the clustering performance\n",
        "        y_pred = q.argmax(1)\n",
        "        if y is not None:\n",
        "            acc = np.round(metrics.acc(y, y_pred), 5)\n",
        "            nmi = np.round(metrics.nmi(y, y_pred), 5)\n",
        "            ari = np.round(metrics.ari(y, y_pred), 5)\n",
        "            loss = np.round(loss, 5)\n",
        "        # check stop criterion - model convergence\n",
        "        delta_label = np.sum(y_pred != y_pred_last).astype(np.float32) / y_pred.shape[0]\n",
        "        y_pred_last = np.copy(y_pred)\n",
        "        if ite > 0 and delta_label < tol:\n",
        "            break\n",
        "    idx = index_array[index * batch_size: min((index+1) * batch_size, x.shape[0])]\n",
        "    loss = model.train_on_batch(x=x[idx], y=p[idx])\n",
        "    index = index + 1 if (index + 1) * batch_size <= x.shape[0] else 0\n",
        "\n",
        "model.save_weights(save_dir + '/DEC_model_final.h5')"
      ],
      "execution_count": 0,
      "outputs": []
    },
    {
      "metadata": {
        "id": "CJrVXyzAha3Y",
        "colab_type": "code",
        "colab": {}
      },
      "cell_type": "code",
      "source": [
        "model.load_weights(save_dir + '/DEC_model_final.h5')\n"
      ],
      "execution_count": 0,
      "outputs": []
    },
    {
      "metadata": {
        "id": "EGvoa1z26wSo",
        "colab_type": "text"
      },
      "cell_type": "markdown",
      "source": [
        "## Final evaluation"
      ]
    },
    {
      "metadata": {
        "id": "KzvcJQCbibmr",
        "colab_type": "code",
        "colab": {
          "base_uri": "https://localhost:8080/",
          "height": 90
        },
        "outputId": "759ffb5e-5a81-4aa8-ded7-5f4faf730320"
      },
      "cell_type": "code",
      "source": [
        "# Eval.\n",
        "q = model.predict(x, verbose=0)\n",
        "p = target_distribution(q)  # update the auxiliary target distribution p\n",
        "\n",
        "# evaluate the clustering performance\n",
        "y_pred = q.argmax(1)\n",
        "if y is not None:\n",
        "    acc = np.round(metrics.acc(y, y_pred), 5)\n",
        "    nmi = np.round(metrics.nmi(y, y_pred), 5)\n",
        "    ari = np.round(metrics.ari(y, y_pred), 5)\n",
        "    loss = np.round(loss, 5)\n",
        "    print('Acc = %.5f, nmi = %.5f, ari = %.5f' % (acc, nmi, ari), ' ; loss=', loss)"
      ],
      "execution_count": 25,
      "outputs": [
        {
          "output_type": "stream",
          "text": [
            "Acc = 0.39541, nmi = 0.18594, ari = 0.19198  ; loss= 0\n"
          ],
          "name": "stdout"
        },
        {
          "output_type": "stream",
          "text": [
            "/usr/local/lib/python3.6/dist-packages/sklearn/metrics/cluster/supervised.py:844: FutureWarning: The behavior of NMI will change in version 0.22. To match the behavior of 'v_measure_score', NMI will use average_method='arithmetic' by default.\n",
            "  FutureWarning)\n"
          ],
          "name": "stderr"
        }
      ]
    },
    {
      "metadata": {
        "id": "d_qaQ7lq9mzv",
        "colab_type": "text"
      },
      "cell_type": "markdown",
      "source": [
        "## Clustering using KMeans"
      ]
    },
    {
      "metadata": {
        "id": "9WERResR8zly",
        "colab_type": "code",
        "colab": {}
      },
      "cell_type": "code",
      "source": [
        "kmeans = KMeans(n_clusters=n_clusters, n_init=20, n_jobs=4)\n",
        "y_pred_kmeans = kmeans.fit_predict(x)"
      ],
      "execution_count": 0,
      "outputs": []
    },
    {
      "metadata": {
        "id": "lBrEyKxa9KBG",
        "colab_type": "code",
        "colab": {
          "base_uri": "https://localhost:8080/",
          "height": 34
        },
        "outputId": "d6ead371-99d9-43d1-ad29-3782be3b475f"
      },
      "cell_type": "code",
      "source": [
        "metrics.acc(y, y_pred_kmeans)\n"
      ],
      "execution_count": 39,
      "outputs": [
        {
          "output_type": "execute_result",
          "data": {
            "text/plain": [
              "0.37906886266372714"
            ]
          },
          "metadata": {
            "tags": []
          },
          "execution_count": 39
        }
      ]
    },
    {
      "metadata": {
        "id": "dNgWDNIl-Ckn",
        "colab_type": "text"
      },
      "cell_type": "markdown",
      "source": [
        "## Final comparison\n",
        "Accuracy using Autoencoder = 0.39541<br>\n",
        "Accuracy using KMeans = 0.37906\n"
      ]
    },
    {
      "metadata": {
        "id": "jhT6FfcP-X7L",
        "colab_type": "code",
        "colab": {}
      },
      "cell_type": "code",
      "source": [
        ""
      ],
      "execution_count": 0,
      "outputs": []
    }
  ]
}